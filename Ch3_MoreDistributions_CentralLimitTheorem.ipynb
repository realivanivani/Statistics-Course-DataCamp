{
 "cells": [
  {
   "cell_type": "markdown",
   "metadata": {
    "vscode": {
     "languageId": "plaintext"
    }
   },
   "source": [
    "# More Distributions and the Central Limit Theorem\n",
    "## The normal distribution"
   ]
  },
  {
   "cell_type": "markdown",
   "metadata": {},
   "source": [
    "1. The normal distribution\n",
    "The next probability distribution we'll discuss is the normal distribution. It's one of the most important probability distributions you'll learn about since a countless number of statistical methods rely on it, and it applies to more real-world situations than the distributions we've covered so far.\n",
    "\n",
    "2. What is the normal distribution?\n",
    "The normal distribution looks like this. Its shape is commonly referred to as a \"bell curve\". The normal distribution has a few important properties.\n",
    "\n",
    "3. Symmetrical\n",
    "First, it's symmetrical, so the left side is a mirror image of the right.\n",
    "\n",
    "4. Area = 1\n",
    "Second, just like any continuous distribution, the area beneath the curve is 1.\n",
    "\n",
    "5. Curve never hits 0\n",
    "Second, the probability never hits 0, even if it looks like it does at the tail ends. Only 0-point-006% of its area is contained beyond the edges of this graph.\n",
    "\n",
    "6. Described by mean and standard deviation\n",
    "The normal distribution is described by its mean and standard deviation. Here is a normal distribution with a mean of 20 and standard deviation of 3, and here is a normal distribution with a mean of 0 and a standard deviation of 1. When a normal distribution has mean 0 and a standard deviation of 1, it's a special distribution called the standard normal distribution Notice how both distributions have the same shape,\n",
    "but their axes have different scales.\n",
    "\n",
    "8. Areas under the normal distribution\n",
    "For the normal distribution, 68% of the area is within 1 standard deviation of the mean. 95% of the area falls within 2 standard deviations of the mean, and 99.7% of the area falls within three standard deviations. This is sometimes called the 68-95-99-point-7 rule.\n",
    "\n",
    "11. Lots of histograms look normal\n",
    "There's lots of real-world data shaped like the normal distribution. For example, here is a histogram of the heights of women that participated in the National Health and Nutrition Examination Survey. The mean height is around 161 centimeters and the standard deviation is about 7 centimeters.\n",
    "\n",
    "12. Approximating data with the normal distribution\n",
    "Since this height data closely resembles the normal distribution, we can take the area under a normal distribution with mean 161 and standard deviation 7 to approximate what percent of women fall into different height ranges.\n",
    "\n",
    "13. What percent of women are shorter than 154 cm?\n",
    "For example, what percent of women are shorter than 154 centimeters? We can answer this using norm-dot-cdf from scipy-dot-stats, which takes the area of the normal distribution less than some number. We pass in the number of interest, 154, followed by the mean and standard deviation of the normal distribution we're using. This gives us about 16% of women are shorter than 154 centimeters.\n",
    "\n",
    "    >> from scipy.stats import norm\n",
    "    >> norm.cdf(154, 161, 7)\n",
    "\n",
    "14. What percent of women are taller than 154 cm?\n",
    "To find the percent of women taller than 154 centimeters, we can take 1 minus the area on the left of 154, which equals the area to the right of 154.\n",
    "\n",
    "    >> 1 - norm.cdf(154, 161, 7)\n",
    "\n",
    "15. What percent of women are 154-157 cm?\n",
    "To get the percent of women between 154 and 157 centimeters tall we can take the area below 157 and subtract the area below 154,which leaves us the area between 154 and 157.\n",
    "\n",
    "    >> norm.cdf(157, 161, 7) - norm.cdf(154, 161, 7)\n",
    "\n",
    "17. What height are 90% of women shorter than?\n",
    "We can also calculate percentages from heights using norm-dot-ppf. To figure out what height 90% of women are shorter than, we pass 0-point-9 into norm-dot-ppf along with the same mean and standard deviation we've been working with. This tells us that 90% of women are shorter than 170 centimeters tall.\n",
    "\n",
    "    >> norm.ppf(0.9, 161, 7)\n",
    "\n",
    "18. What height are 90% of women taller than?\n",
    "We can figure out the height 90% of women are taller than, since this is also the height that 10% of women are shorter than. We can take 1 minus point-9 to get point-1, which we'll use as the first argument of norm-ppf.\n",
    "\n",
    "    >> norm.ppf((1-0.9), 161, 7)\n",
    "\n",
    "19. Generating random numbers\n",
    "Just like with other distributions, we can generate random numbers from a normal distribution using norm-dot-rvs, passing in the distribution's mean and standard deviation, as well as the sample size we want. Here, we've generated 10 more random heights.\n",
    "\n",
    "    >> norm.rvs(161, 7, size=10)\n",
    "    \n",
    "20. Let's practice!"
   ]
  },
  {
   "cell_type": "markdown",
   "metadata": {},
   "source": [
    "### Exercise\n",
    "#### Distribution of Amir's sales\n",
    "\n",
    "Since each deal Amir worked on (both won and lost) was different, each was worth a different amount of money. These values are stored in the amount column of amir_deals As part of Amir's performance review, you want to be able to estimate the probability of him selling different amounts, but before you can do this, you'll need to determine what kind of distribution the amount variable follows.\n",
    "\n",
    "Both pandas as pd and matplotlib.pyplot as plt are loaded and amir_deals is available."
   ]
  },
  {
   "cell_type": "code",
   "execution_count": 7,
   "metadata": {},
   "outputs": [],
   "source": [
    "import pandas as pd\n",
    "import matplotlib.pyplot as plt\n",
    "from scipy.stats import norm\n",
    "import numpy as np"
   ]
  },
  {
   "cell_type": "code",
   "execution_count": null,
   "metadata": {},
   "outputs": [],
   "source": [
    "# Histogram of amount with 10 bins and show plot\n",
    "amir_deals.hist(column = 'amount', bins = 10)\n",
    "plt.show()"
   ]
  },
  {
   "cell_type": "markdown",
   "metadata": {},
   "source": [
    "#### Probabilities from the normal distribution\n",
    "\n",
    "Since each deal Amir worked on (both won and lost) was different, each was worth a different amount of money. These values are stored in the amount column of amir_deals and follow a normal distribution with a mean of 5000 dollars and a standard deviation of 2000 dollars. As part of his performance metrics, you want to calculate the probability of Amir closing a deal worth various amounts.\n",
    "\n",
    "norm from scipy.stats is imported as well as pandas as pd. The DataFrame amir_deals is loaded."
   ]
  },
  {
   "cell_type": "code",
   "execution_count": 2,
   "metadata": {},
   "outputs": [
    {
     "name": "stdout",
     "output_type": "stream",
     "text": [
      "0.8943502263331446\n",
      "0.9772498680518208\n",
      "0.6826894921370859\n",
      "3651.0204996078364\n"
     ]
    }
   ],
   "source": [
    "# What's the probability of Amir closing a deal worth less than $7500?\n",
    "prob_less_7500 = norm.cdf(7500, 5000, 2000)\n",
    "print(prob_less_7500)\n",
    "\n",
    "# What's the probability of Amir closing a deal worth more than $1000?\n",
    "prob_over_1000 = 1 - norm.cdf(1000, 5000, 2000)\n",
    "print(prob_over_1000)\n",
    "\n",
    "# What's the probability of Amir closing a deal worth between $3000 and $7000?\n",
    "prob_3000_to_7000 = norm.cdf(7000, 5000, 2000) - norm.cdf(3000,5000,2000)\n",
    "print(prob_3000_to_7000)\n",
    "\n",
    "# What amount will 25% of Amir's sales be less than?\n",
    "pct_25 = norm.ppf(0.25, 5000, 2000)\n",
    "print(pct_25)"
   ]
  },
  {
   "cell_type": "markdown",
   "metadata": {},
   "source": [
    "#### Simulating sales under new market conditions\n",
    "\n",
    "The company's financial analyst is predicting that next quarter, the worth of each sale will increase by 20% and the volatility, or standard deviation, of each sale's worth will increase by 30%. To see what Amir's sales might look like next quarter under these new market conditions, you'll simulate new sales amounts using the normal distribution and store these in the new_sales DataFrame, which has already been created for you.\n",
    "\n",
    "In addition, norm from scipy.stats, pandas as pd, and matplotlib.pyplot as plt are loaded. "
   ]
  },
  {
   "cell_type": "code",
   "execution_count": 3,
   "metadata": {},
   "outputs": [
    {
     "data": {
      "image/png": "[encoded data removed]",
      "text/plain": [
       "<Figure size 640x480 with 1 Axes>"
      ]
     },
     "metadata": {},
     "output_type": "display_data"
    }
   ],
   "source": [
    "# Currently, Amir's average sale amount is $5000. Calculate what his new average amount will be if it increases by 20% and store this in new_mean.\n",
    "new_mean = 5000 * 1.2\n",
    "\n",
    "# Amir's current standard deviation is $2000. Calculate what his new standard deviation will be if it increases by 30% and store this in new_sd.\n",
    "new_sd = 2000 * 1.3\n",
    "\n",
    "# Create a variable called new_sales, which contains 36 simulated amounts from a normal distribution with a mean of new_mean and a standard deviation of new_sd.\n",
    "new_sales = norm.rvs(new_mean, new_sd, size=36)\n",
    "\n",
    "# Plot the distribution of the new_sales amounts using a histogram and show the plot.\n",
    "plt.hist(new_sales)\n",
    "plt.show()"
   ]
  },
  {
   "cell_type": "markdown",
   "metadata": {},
   "source": [
    "#### Which market is better?\n",
    "\n",
    "The key metric that the company uses to evaluate salespeople is the percent of sales they make over $1000 since the time put into each sale is usually worth a bit more than that, so the higher this metric, the better the salesperson is performing.\n",
    "\n",
    "Recall that Amir's current sales amounts have a mean of $5000 and a standard deviation of $2000, and Amir's predicted amounts in next quarter's market have a mean of $6000 and a standard deviation of $2600.\n",
    "\n",
    "norm from scipy.stats is imported.\n",
    "\n",
    "Based only on the metric of percent of sales over $1000, does Amir perform better in the current market or the predicted market?"
   ]
  },
  {
   "cell_type": "code",
   "execution_count": 4,
   "metadata": {},
   "outputs": [
    {
     "data": {
      "text/plain": [
       "0.9772498680518208"
      ]
     },
     "execution_count": 4,
     "metadata": {},
     "output_type": "execute_result"
    }
   ],
   "source": [
    "1 - norm.cdf(1000,5000,2000)"
   ]
  },
  {
   "cell_type": "code",
   "execution_count": 5,
   "metadata": {},
   "outputs": [
    {
     "data": {
      "text/plain": [
       "0.9727648049862613"
      ]
     },
     "execution_count": 5,
     "metadata": {},
     "output_type": "execute_result"
    }
   ],
   "source": [
    "1 - norm.cdf(1000,6000,2600)"
   ]
  },
  {
   "cell_type": "markdown",
   "metadata": {},
   "source": [
    "Amir performs about equally in both markets."
   ]
  },
  {
   "cell_type": "markdown",
   "metadata": {},
   "source": [
    "## The central limit theorem\n",
    "\n",
    "1. The central limit theorem\n",
    "Now that you're familiar with the normal distribution, it's time to learn about what makes it so important.\n",
    "\n",
    "2. Rolling the dice 5 times\n",
    "Let's go back to our dice rolling example. We have a Series of the numbers 1 to 6 called die. To simulate rolling the die 5 times, we'll call die-dot-sample. We pass in the Series we want to sample from, the size of the sample, and set replace to True. This gives us the results of 5 rolls. Now, we'll take the mean of the 5 rolls, which gives us 2.\n",
    "\n",
    "    >> die = pd.Series([1,2,3,4,5,6])\n",
    "    >> samp_5 = die.sample(5, replace=True)\n",
    "    >> np.mean(samp_5)\n",
    "\n",
    "3. Rolling the dice 5 times\n",
    "If we roll another 5 times and take the mean, we get a different mean. If we do it again, we get another mean.\n",
    "\n",
    "4. Rolling the dice 5 times 10 times\n",
    "Let's repeat this 10 times: we'll roll 5 times and take the mean. To do this, we'll use a for loop. We start by creating an empty list called sample_means to hold our means. We loop from 0 to 9 so that the process is repeated 10 times. Inside the loop, we roll 5 times and append the sample's mean to the sample_means list. This gives us a list of 10 different sample means. Let's plot these sample means.\n",
    "\n",
    "    >> sample_means = []\n",
    "    >> for i in range(10):\n",
    "        samp_5 = die.sample(5, replace=True)\n",
    "        sample_means.append(np.mean(samp_5))\n",
    "\n",
    "5. Sampling distributions\n",
    "A distribution of a summary statistic like this is called a sampling distribution. This distribution, specifically, is a sampling distribution of the sample mean.\n",
    "\n",
    "6. 100 sample means\n",
    "Now let's do this 100 times. If we look at the new sampling distribution, its shape somewhat resembles the normal distribution, even though the distribution of the die is uniform.\n",
    "\n",
    "    >> sample_means = [np.mean(die.sample(5, replace=True)) for _ in range(100)]\n",
    "    \n",
    "7. 1000 sample means\n",
    "Let's take 1000 means. This sampling distribution more closely resembles the normal distribution.\n",
    "\n",
    "8. Central limit theorem\n",
    "This phenomenon is known as the central limit theorem, which states that a sampling distribution will approach a normal distribution as the number of trials increases. In our example, the sampling distribution became closer to the normal distribution as we took more and more sample means. It's important to note that the central limit theorem only applies when samples are taken randomly and are independent, for example, randomly picking sales deals with replacement.\n",
    "\n",
    "9. Standard deviation and the CLT\n",
    "The central limit theorem, or CLT, applies to other summary statistics as well. If we take the standard deviation of 5 rolls 1000 times, the sample standard deviations are distributed normally, centered around 1-point-9, which is the distribution's standard deviation.\n",
    "\n",
    "10. Proportions and the CLT\n",
    "Another statistic that the CLT applies to is proportion. Let's sample from the sales team 10 times with replacement and see how many draws have Claire as the outcome. In this case, 10% of draws were Claire. If we draw again, there are 40% Claires.\n",
    "\n",
    "11. Sampling distribution of proportion\n",
    "If we repeat this 1000 times and plot the distribution of the sample proportions, it resembles a normal distribution centered around 0-point-25, since Claire's name was on 25% of the tickets.\n",
    "\n",
    "12. Mean of sampling distribution\n",
    "Since these sampling distributions are normal, we can take their mean to get an estimate of a distribution's mean, standard deviation, or proportion. If we take the mean of our sample means from earlier, we get 3-point-48. That's pretty close to the expected value, which is 3-point-5! Similarly, the mean of the sample proportions of Claires isn't far off from 0-point-25. In these examples, we know what the underlying distributions look like, but if we don't, this can be a useful method for estimating characteristics of an underlying distribution. The central limit theorem also comes in handy when you have a huge population and don't have the time or resources to collect data on everyone. Instead, you can collect several smaller samples and create a sampling distribution to estimate what the mean or standard deviation is.\n",
    "13. Let's practice!\n"
   ]
  },
  {
   "cell_type": "code",
   "execution_count": 21,
   "metadata": {},
   "outputs": [
    {
     "data": {
      "image/png": "[encoded data removed]",
      "text/plain": [
       "<Figure size 1500x300 with 3 Axes>"
      ]
     },
     "metadata": {},
     "output_type": "display_data"
    }
   ],
   "source": [
    "die = np.arange(1, 7)\n",
    "sample_sizes = {'01k': 100, '1k': 1000, '10k': 10000}\n",
    "\n",
    "# Create subplots\n",
    "fig, axes = plt.subplots(1, 3, figsize=(15, 3))\n",
    "\n",
    "# Plot histograms for each sample size\n",
    "for ax, (key, size) in zip(axes, sample_sizes.items()):\n",
    "    sample_means = [np.mean(np.random.choice(die, 5, replace=True)) for _ in range(size)]\n",
    "    ax.hist(sample_means, bins=12, alpha=0.7)\n",
    "    ax.set_title(f'Sample Size: {key}')\n",
    "    ax.set_xlabel('Mean')\n",
    "    ax.set_ylabel('Frequency')\n",
    "    "
   ]
  },
  {
   "cell_type": "markdown",
   "metadata": {},
   "source": [
    "#### The CLT in action\n",
    "\n",
    "The central limit theorem states that a sampling distribution of a sample statistic approaches the normal distribution as you take more samples, no matter the original distribution being sampled from.\n",
    "\n",
    "In this exercise, you'll focus on the sample mean and see the central limit theorem in action while examining the num_users column of amir_deals more closely, which contains the number of people who intend to use the product Amir is selling.\n",
    "\n",
    "pandas as pd, numpy as np, and matplotlib.pyplot as plt are loaded and amir_deals is available."
   ]
  },
  {
   "cell_type": "code",
   "execution_count": null,
   "metadata": {},
   "outputs": [],
   "source": [
    "# Create a histogram of the num_users column of amir_deals and show the plot.\n",
    "amir_deals['num_users'].hist()\n",
    "plt.show()\n",
    "\n",
    "# Set the seed to 104.\n",
    "np.random.seed(104)\n",
    "\n",
    "# Take a sample of size 20 with replacement from the num_users column of amir_deals, and take the mean.\n",
    "samp_20 = amir_deals['num_users'].sample(20, replace=True)\n",
    "print(samp_20.mean())\n",
    "\n",
    "# Repeat this 100 times using a for loop and store as sample_means. This will take 100 different samples and calculate the mean of each.\n",
    "sample_means = []\n",
    "for i in range(100):\n",
    "  # Take sample of 20 num_users\n",
    "  samp_20 = amir_deals['num_users'].sample(20,replace=True)\n",
    "  # Calculate mean of samp_20\n",
    "  samp_20_mean = samp_20.mean()\n",
    "  # Append samp_20_mean to sample_means\n",
    "  sample_means.append(samp_20_mean)\n",
    "  \n",
    "print(sample_means)\n",
    "\n",
    "# Convert sample_means into a pd.Series, create a histogram of the sample_means, and show the plot.\n",
    "sample_means_series = pd.Series(sample_means)\n",
    "sample_means_series.hist()\n",
    "plt.show()"
   ]
  },
  {
   "cell_type": "markdown",
   "metadata": {},
   "source": [
    "#### The mean of means\n",
    "\n",
    "You want to know what the average number of users (num_users) is per deal, but you want to know this number for the entire company so that you can see if Amir's deals have more or fewer users than the company's average deal. The problem is that over the past year, the company has worked on more than ten thousand deals, so it's not realistic to compile all the data. Instead, you'll estimate the mean by taking several random samples of deals, since this is much easier than collecting data from everyone in the company.\n",
    "\n",
    "amir_deals is available and the user data for all the company's deals is available in all_deals. Both pandas as pd and numpy as np are loaded."
   ]
  },
  {
   "cell_type": "code",
   "execution_count": null,
   "metadata": {},
   "outputs": [],
   "source": [
    "# Set seed to 321\n",
    "np.random.seed(321)\n",
    "\n",
    "sample_means = []\n",
    "# Loop 30 times to take 30 means\n",
    "for i in range(30):\n",
    "  # Take sample of size 20 from num_users col of all_deals with replacement\n",
    "  cur_sample = all_deals.num_users.sample(20, replace=True)\n",
    "  # Take mean of cur_sample\n",
    "  cur_mean = cur_sample.mean()\n",
    "  # Append cur_mean to sample_means\n",
    "  sample_means.append(cur_mean)\n",
    "\n",
    "# Print mean of sample_means\n",
    "print(np.mean(sample_means))\n",
    "\n",
    "# Print mean of num_users in amir_deals\n",
    "print(np.mean(amir_deals.num_users))"
   ]
  },
  {
   "cell_type": "markdown",
   "metadata": {},
   "source": [
    "## The Poisson distribution\n",
    "\n",
    "1. The Poisson distribution\n",
    "In this video, we'll talk about another probability distribution called the Poisson distribution.\n",
    "\n",
    "2. Poisson processes\n",
    "Before we talk about probability, let's define a Poisson process. A Poisson process is a process where events appear to happen at a certain rate, but completely at random. For example, the number of animals adopted from an animal shelter each week is a Poisson process - we may know that on average there are 8 adoptions per week, but this number can differ randomly. Other examples would be the number of people arriving at a restaurant each hour, or the number of earthquakes per year in California. The time unit like, hours, weeks, or years, is irrelevant as long as it's consistent.\n",
    "\n",
    "3. Poisson distribution\n",
    "The Poisson distribution describes the probability of some number of events happening over a fixed period of time. We can use the Poisson distribution to calculate the probability of at least 5 animals getting adopted in a week, the probability of 12 people arriving in a restaurant in an hour, or the probability of fewer than 20 earthquakes in California in a year.\n",
    "\n",
    "4. Lambda ($\\lambda$)\n",
    "The Poisson distribution is described by a value called lambda, which represents the average number of events per time period. In the animal shelter example, this would be the average number of adoptions per week, which is 8. This value is also the expected value of the distribution! The Poisson distribution with lambda equals 8 looks like this. Notice that it's a discrete distribution since we're counting events, and 7 and 8 are the most likely number of adoptions to happen in a week.\n",
    "\n",
    "5. Lambda is the distribution's peak\n",
    "Lambda changes the shape of the distribution, so a Poisson distribution with lambda equals 1, in blue, looks quite different than a Poisson distribution with lambda equals 8, in green, but no matter what, the distribution's peak is always at its lambda value.\n",
    "\n",
    "6. Probability of a single value\n",
    "Given that the average number of adoptions per week is 8, what's the probability of 5 adoptions in a week? Just like the other probability distributions, we can import poisson from scipy-dot-stats. We'll use the poisson-dot-pmf function, passing 5 as the first argument and 8 as the second argument to indicate the distribution's mean. This gives us about 9%.\n",
    "\n",
    "    >> from scipy.stats import poisson\n",
    "    >> poisson.pmf(5,8)\n",
    "\n",
    "7. Probability of less than or equal to\n",
    "To get the probability that 5 or fewer adoptions will happen in a week, use the poisson-dot-cdf function, passing in the same numbers. This gives us about 20%.\n",
    "\n",
    "    >> poisson.cdf(5, 8)\n",
    "\n",
    "8. Probability of greater than\n",
    "Just like other probability functions you've learned about so far, take 1 minus the \"less than or equal to 5\" probability to get the probability of more than 5 adoptions. There's an 81% chance that more than 5 adoptions will occur. If the average number of adoptions rises to 10 per week, there will be a 93% chance that more than 5 adoptions will occur.\n",
    "\n",
    "    >> 1 - poisson.cdf(5, 8)\n",
    "\n",
    "9. Sampling from a Poisson distribution\n",
    "Just like other distributions, we can take samples from Poisson distributions using poisson-dot-rvs. Here, we'll simulate 10 different weeks at the animal shelter. In one week, there are 14 adoptions, but only 6 in another.\n",
    "\n",
    "    >> poisson.rvs(8, size-10)\n",
    "    \n",
    "10. The CLT still applies!\n",
    "Just like other distributions, the sampling distribution of sample means of a Poisson distribution looks normal with a large number of samples.\n",
    "\n",
    "11. Let's practice!"
   ]
  },
  {
   "cell_type": "markdown",
   "metadata": {},
   "source": [
    "#### Tracking lead responses\n",
    "\n",
    "Your company uses sales software to keep track of new sales leads. It organizes them into a queue so that anyone can follow up on one when they have a bit of free time. Since the number of lead responses is a countable outcome over a period of time, this scenario corresponds to a Poisson distribution. On average, Amir responds to 4 leads each day. In this exercise, you'll calculate probabilities of Amir responding to different numbers of leads."
   ]
  },
  {
   "cell_type": "markdown",
   "metadata": {},
   "source": []
  },
  {
   "cell_type": "code",
   "execution_count": 22,
   "metadata": {},
   "outputs": [
    {
     "name": "stdout",
     "output_type": "stream",
     "text": [
      "0.1562934518505317\n",
      "0.17140068409793663\n",
      "0.2381033055535443\n",
      "0.0028397661205137315\n"
     ]
    }
   ],
   "source": [
    "# Import poisson from scipy.stats and calculate the probability that Amir responds to 5 leads in a day, given that he responds to an average of 4.\n",
    "from scipy.stats import poisson\n",
    "prob_5 = poisson.pmf(5, 4)\n",
    "print(prob_5)\n",
    "\n",
    "# Amir's coworker responds to an average of 5.5 leads per day. What is the probability that she answers 5 leads in a day?\n",
    "prob_coworker = poisson.pmf(5, 5.5)\n",
    "print(prob_coworker)\n",
    "\n",
    "# What's the probability that Amir responds to 2 or fewer leads in a day?\n",
    "prob_2_or_less = poisson.cdf(2, 4)\n",
    "print(prob_2_or_less)\n",
    "\n",
    "# What's the probability that Amir responds to more than 10 leads in a day?\n",
    "prob_over_10 = 1 - poisson.cdf(10, 4)\n",
    "print(prob_over_10)\n",
    "\n"
   ]
  },
  {
   "cell_type": "markdown",
   "metadata": {},
   "source": [
    "## More probability distributions\n",
    "1. More probability distributions\n",
    "In this lesson, we'll discuss a few other probability distributions.\n",
    "\n",
    "2. Exponential distribution\n",
    "The first distribution is the exponential distribution, which represents the probability of a certain time passing between Poisson events. We can use the exponential distribution to predict, for example, the probability of more than 1 day between adoptions, the probability of fewer than 10 minutes between restaurant arrivals, and the probability of 6-8 months passing between earthquakes. Just like the Poisson distribution, the time unit doesn't matter as long as it's consistent. The exponential distribution uses the same lambda value, which represents the rate, that the Poisson distribution does. Note that lambda and rate mean the same value in this context. It's also continuous, unlike the Poisson distribution, since it represents time.\n",
    "\n",
    "3. Customer service requests\n",
    "For example, let's say that one customer service ticket is created every 2 minutes. We can rephrase this so it's in terms of a time interval of one minute, so half of a ticket is created each minute. We'll use 0-point-5 as the lambda value. The exponential distribution with a rate of one half looks like this.\n",
    "\n",
    "4. Lambda in exponential distribution\n",
    "The rate affects the shape of the distribution and how steeply it declines.\n",
    "\n",
    "5. Expected value of exponential distribution\n",
    "Recall that lambda is the expected value of the Poisson distribution, which measures frequency in terms of rate or number of events. In our customer service ticket example, this means that the expected number of requests per minute is point-5. The exponential distribution measures frequency in terms of time between events. The expected value of the exponential distribution can be calculated by taking 1 divided by lambda. In our example, the expected time between requests is 1 over one half, which is 2, so there is an average of 2 minutes between requests.\n",
    "\n",
    "6. How long until a new request is created?\n",
    "Similar to other continuous distributions, we can use expon-dot-cdf to calculate probabilities. The probability of waiting less than 1 minute for a new request is calculated using expon-cdf, passing in 1 followed by a 2, which gives us about an 40% chance. Note that we're passing in 2, not the lambda value which is point-5. The probability of waiting more than 4 minutes can be found using 1 minus expon-cdf of 4, 2, giving a 13% chance. Finally, the probability of waiting between 1 and 4 minutes can be found by taking expon-cdf of 4 and subtracting expon-cdf of 1. There's a 50% chance you'll wait between 1 and 4 minutes.\n",
    "\n",
    "    >> from scipy.stats import expon\n",
    "\n",
    "    >> expon.cdf(1, scale=2)\n",
    "\n",
    "    >> 1 - expon.cdf(4, scale=2)\n",
    "\n",
    "7. (Student's) t-distribution\n",
    "The next distribution is the t-distribution, which is also sometimes called Student's t-distribution. Its shape is similar to the normal distribution, but not quite the same. If we compare the normal distribution, in blue, with the t-distribution with one degree of freedom, in orange, the t-distribution's tails are thicker. This means that in a t-distribution, observations are more likely to fall further from the mean.\n",
    "\n",
    "8. Degrees of freedom\n",
    "The t-distribution has a parameter called degrees of freedom, which affects the thickness of the distribution's tails. Lower degrees of freedom results in thicker tails and a higher standard deviation. As the number of degrees of freedom increases, the distribution looks more and more like the normal distribution.\n",
    "\n",
    "9. Log-normal distribution\n",
    "The last distribution we'll discuss is the log-normal distribution. Variables that follow a log-normal distribution have a logarithm that is normally distributed. This results in distributions that are skewed, unlike the normal distribution. There are lots of real-world examples that follow this distribution, such as the length of chess games, blood pressure in adults, and the number of hospitalizations in the 2003 SARS outbreak.\n",
    "\n",
    "10. Let's practice!\n"
   ]
  },
  {
   "cell_type": "markdown",
   "metadata": {},
   "source": [
    "#### Modeling time between leads\n",
    "\n",
    "To further evaluate Amir's performance, you want to know how much time it takes him to respond to a lead after he opens it. On average, he responds to 1 request every 2.5 hours. In this exercise, you'll calculate probabilities of different amounts of time passing between Amir receiving a lead and sending a response."
   ]
  },
  {
   "cell_type": "code",
   "execution_count": 23,
   "metadata": {},
   "outputs": [
    {
     "name": "stdout",
     "output_type": "stream",
     "text": [
      "0.3296799539643607\n",
      "0.20189651799465536\n",
      "0.09929769391754684\n"
     ]
    }
   ],
   "source": [
    "# Import expon from scipy.stats. What's the probability it takes Amir less than an hour to respond to a lead?\n",
    "from scipy.stats import expon\n",
    "\n",
    "# Print probability response takes < 1 hour\n",
    "print(expon.cdf(1, scale=2.5))\n",
    "\n",
    "# What's the probability it takes Amir more than 4 hours to respond to a lead?\n",
    "print(1 - expon.cdf(4, scale=2.5))\n",
    "\n",
    "# What's the probability it takes Amir 3-4 hours to respond to a lead?\n",
    "print(expon.cdf(4, scale=2.5) - expon.cdf(3, scale=2.5))"
   ]
  },
  {
   "cell_type": "code",
   "execution_count": null,
   "metadata": {},
   "outputs": [],
   "source": []
  }
 ],
 "metadata": {
  "kernelspec": {
   "display_name": "Python 3",
   "language": "python",
   "name": "python3"
  },
  "language_info": {
   "codemirror_mode": {
    "name": "ipython",
    "version": 3
   },
   "file_extension": ".py",
   "mimetype": "text/x-python",
   "name": "python",
   "nbconvert_exporter": "python",
   "pygments_lexer": "ipython3",
   "version": "3.9.6"
  }
 },
 "nbformat": 4,
 "nbformat_minor": 2
}
